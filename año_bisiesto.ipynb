{
  "nbformat": 4,
  "nbformat_minor": 0,
  "metadata": {
    "colab": {
      "name": "año bisiesto",
      "provenance": [],
      "collapsed_sections": [],
      "authorship_tag": "ABX9TyNRof1nzNC5LmcA7wF1gyBh",
      "include_colab_link": true
    },
    "kernelspec": {
      "name": "python3",
      "display_name": "Python 3"
    },
    "language_info": {
      "name": "python"
    }
  },
  "cells": [
    {
      "cell_type": "markdown",
      "metadata": {
        "id": "view-in-github",
        "colab_type": "text"
      },
      "source": [
        "<a href=\"https://colab.research.google.com/github/joseManuel263/A-o-bisiesto-py/blob/main/a%C3%B1o_bisiesto.ipynb\" target=\"_parent\"><img src=\"https://colab.research.google.com/assets/colab-badge.svg\" alt=\"Open In Colab\"/></a>"
      ]
    },
    {
      "cell_type": "code",
      "source": [
        "print(\"Un método para encontrar un año bisiesto: Un año normal tiene 365 días. Un año\\nbisiesto tiene 366 días (el día extra es el 29 de febrero).\\n\")\n",
        "añoBisiesto=int(input(\"Comprueba si un año es bisiesto: \"))\n",
        "if(añoBisiesto%4==0 and añoBisiesto%100!=0 and añoBisiesto%400==0):\n",
        "  print(\"\\nEl año es bisiesto\\n<(￣︶￣)>\")\n",
        "else:\n",
        "  print(\"\\nEl año no es bisiesto\\n◝(⁰▿⁰)◜\")\n",
        "\n",
        "\n",
        "print(\"\\n\\nUn método para convertir la lectura de la altura en centímetros y luego convierte la\\naltura a pies y pulgadas.\\n\")\n",
        "centimetros=float(input(\"Ingresa la altura en centímetros: \"))\n",
        "pulgadas=centimetros/2.54\n",
        "pies=centimetros/30.48\n",
        "print(f\"\\nLa longitud en pulgadas: {pulgadas}\\nLa longitud en pies: {pies}\\n(☢‿☢)✌\")"
      ],
      "metadata": {
        "id": "LsoyWD1G-hB8",
        "colab": {
          "base_uri": "https://localhost:8080/"
        },
        "outputId": "97c71c1b-288e-4602-ef03-023d91836010"
      },
      "execution_count": null,
      "outputs": [
        {
          "output_type": "stream",
          "name": "stdout",
          "text": [
            "Un método para encontrar un año bisiesto: Un año normal tiene 365 días. Un año\n",
            "bisiesto tiene 366 días (el día extra es el 29 de febrero).\n",
            "\n",
            "Comprueba si un año es bisiesto: 320\n",
            "\n",
            "El año no es bisiesto\n",
            "◝(⁰▿⁰)◜\n",
            "\n",
            "\n",
            "Un método para convertir la lectura de la altura en centímetros y luego convierte la\n",
            "altura a pies y pulgadas.\n",
            "\n",
            "Ingresa la altura en centímetros: 200\n",
            "\n",
            "La longitud en pulgadas: 78.74015748031496\n",
            "La longitud en pies: 6.561679790026247\n",
            "\n",
            "(☢‿☢)✌\n"
          ]
        }
      ]
    }
  ]
}